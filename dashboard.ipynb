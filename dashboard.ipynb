{
 "cells": [
  {
   "cell_type": "code",
   "execution_count": 2,
   "metadata": {},
   "outputs": [],
   "source": [
    "# importation\n",
    "import pandas as pd\n",
    "import numpy as np\n",
    "import pickle\n",
    "from sklearn.model_selection import train_test_split\n",
    "from sklearn.linear_model import LinearRegression\n",
    "from sklearn.ensemble import RandomForestRegressor\n",
    "from sklearn.neural_network import MLPRegressor\n",
    "from sklearn.metrics import r2_score\n",
    "import dash\n",
    "from dash import dcc, html\n",
    "import dash_bootstrap_components as dbc\n",
    "from dash.dependencies import Input, Output, State\n",
    "import plotly.graph_objs as go\n",
    "import os\n",
    "import signal\n",
    "import joblib"
   ]
  },
  {
   "cell_type": "code",
   "execution_count": 3,
   "metadata": {},
   "outputs": [],
   "source": [
    "# load le dataset\n",
    "X = joblib.load('X_test.pkl')\n",
    "y = joblib.load('y_test.pkl')"
   ]
  },
  {
   "cell_type": "code",
   "execution_count": 4,
   "metadata": {},
   "outputs": [],
   "source": [
    "with open('lr_model.pkl', 'rb') as file : \n",
    "    lr_model = pickle.load(file)\n",
    "    \n",
    "dt_model = joblib.load('dt_model.pkl')\n",
    "\n",
    "best_rf_model = joblib.load('best_rf_model.pkl')"
   ]
  },
  {
   "cell_type": "code",
   "execution_count": 5,
   "metadata": {},
   "outputs": [
    {
     "name": "stderr",
     "output_type": "stream",
     "text": [
      "c:\\Users\\pphong\\AppData\\Local\\Programs\\Python\\Python310\\lib\\site-packages\\sklearn\\base.py:486: UserWarning: X has feature names, but LinearRegression was fitted without feature names\n",
      "  warnings.warn(\n"
     ]
    }
   ],
   "source": [
    "predictions_lr = lr_model.predict(X)"
   ]
  },
  {
   "cell_type": "code",
   "execution_count": 6,
   "metadata": {},
   "outputs": [
    {
     "name": "stderr",
     "output_type": "stream",
     "text": [
      "c:\\Users\\pphong\\AppData\\Local\\Programs\\Python\\Python310\\lib\\site-packages\\sklearn\\base.py:486: UserWarning: X has feature names, but DecisionTreeRegressor was fitted without feature names\n",
      "  warnings.warn(\n"
     ]
    }
   ],
   "source": [
    "predictions_dt = dt_model.predict(X)"
   ]
  },
  {
   "cell_type": "code",
   "execution_count": 7,
   "metadata": {},
   "outputs": [
    {
     "name": "stderr",
     "output_type": "stream",
     "text": [
      "c:\\Users\\pphong\\AppData\\Local\\Programs\\Python\\Python310\\lib\\site-packages\\sklearn\\base.py:486: UserWarning: X has feature names, but RandomForestRegressor was fitted without feature names\n",
      "  warnings.warn(\n"
     ]
    }
   ],
   "source": [
    "predictions_rf = best_rf_model.predict(X)"
   ]
  },
  {
   "cell_type": "code",
   "execution_count": 9,
   "metadata": {},
   "outputs": [
    {
     "data": {
      "text/html": [
       "\n",
       "        <iframe\n",
       "            width=\"100%\"\n",
       "            height=\"650\"\n",
       "            src=\"http://127.0.0.1:8051/\"\n",
       "            frameborder=\"0\"\n",
       "            allowfullscreen\n",
       "            \n",
       "        ></iframe>\n",
       "        "
      ],
      "text/plain": [
       "<IPython.lib.display.IFrame at 0x2551b921600>"
      ]
     },
     "metadata": {},
     "output_type": "display_data"
    }
   ],
   "source": [
    "# Initialize the Dash app\n",
    "app = dash.Dash(__name__, external_stylesheets=[dbc.themes.BOOTSTRAP])\n",
    "\n",
    "# Create the layout of the app\n",
    "app.layout = dbc.Container([\n",
    "    dbc.Row(dbc.Col(html.H1(\"Solar Energy Prediction Dashboard\"), className=\"mb-4\")),\n",
    "    dbc.Row([\n",
    "        dbc.Col([\n",
    "            dcc.Dropdown(\n",
    "                id='model-dropdown',\n",
    "                options=[\n",
    "                    {'label': 'Linear Regression', 'value': 'Linear Regression'},\n",
    "                    {'label': 'Decision Tree', 'value': 'Decision Tree'},\n",
    "                    {'label': 'Random Forest', 'value': 'Random Forest'}\n",
    "                ],\n",
    "                value='Linear Regression',\n",
    "                placeholder=\"Select a model\"\n",
    "            ),\n",
    "            dbc.Button(\"Show Predictions\", id=\"show-predictions\", className=\"mt-2\"),\n",
    "            dbc.Button(\"Stop Dashboard\", id=\"stop-dashboard\", className=\"mt-2\", color=\"danger\")\n",
    "        ], width=3),\n",
    "        dbc.Col(dcc.Graph(id='prediction-graph'), width=9)\n",
    "    ])\n",
    "], fluid=True)\n",
    "\n",
    "dataImputed2 = pd.DataFrame({\n",
    "    'dtm': pd.date_range(start='2023-10-28', periods=500, freq='D'),\n",
    "    'Solar_MW': np.random.rand(500) * 100\n",
    "})\n",
    "\n",
    "# Define callback to update graph\n",
    "@app.callback(\n",
    "    Output('prediction-graph', 'figure'),\n",
    "    Input('show-predictions', 'n_clicks'),\n",
    "    State('model-dropdown', 'value')\n",
    ")\n",
    "def update_graph(n_clicks, selected_model):\n",
    "    if n_clicks is None:\n",
    "        return go.Figure()\n",
    "\n",
    "    fig = go.Figure()\n",
    "    fig.add_trace(go.Scatter(x=dataImputed2['dtm'], y=y, mode='lines+markers', name='Données réelles'))\n",
    "\n",
    "    if selected_model == 'Linear Regression':\n",
    "        fig.add_trace(go.Scatter(x=dataImputed2['dtm'], y=predictions_lr, mode='lines+markers', name='Prédictions'))\n",
    "    elif selected_model == 'Decision Tree':\n",
    "        fig.add_trace(go.Scatter(x=np.arange(len(y)), y=predictions_dt, mode='lines', name='Decision Tree'))\n",
    "    elif selected_model == 'Random Forest':\n",
    "        fig.add_trace(go.Scatter(x=np.arange(len(y)), y=predictions_rf, mode='lines', name='Random Forest'))\n",
    "\n",
    "    fig.update_layout(title='Comparaison des Prédictions et des Données Réelles', xaxis_title='Date', yaxis_title='Solar MW')\n",
    "\n",
    "    return fig\n",
    "\n",
    "# Define callback to stop the server\n",
    "@app.callback(\n",
    "    Output('stop-dashboard', 'disabled'),\n",
    "    Input('stop-dashboard', 'n_clicks')\n",
    ")\n",
    "def stop_server(n_clicks):\n",
    "    if n_clicks is not None:\n",
    "        os.kill(os.getpid(), signal.SIGTERM)\n",
    "    return False\n",
    "\n",
    "# Exécuter l'application\n",
    "if __name__ == '__main__':\n",
    "    app.run_server(debug=True, port=8051)  # Utilisez un numéro de port différent si nécessaire"
   ]
  },
  {
   "cell_type": "markdown",
   "metadata": {},
   "source": [
    "In our weather forecasting project, we evaluated three different regression models: Random Forest Regressor, Linear Regression, and Decision Tree Regressor. Despite expecting higher precision, our models demonstrated a satisfactory level of accuracy, with the predicted curves closely mirroring the actual trends.\n",
    "\n",
    "We selected these models due to their established effectiveness in regression tasks. Comparing Linear Regression, a fundamental regression technique, with the more sophisticated Random Forest Regressor highlighted the differences in performance. The Random Forest Regressor, as anticipated, delivered superior precision, validating its advanced capabilities.\n",
    "\n",
    "Overall, the use of these models provided valuable insights into their respective strengths and limitations in weather prediction. We are satisfied with the predictions we achieved and are committed to further improving them in the future."
   ]
  }
 ],
 "metadata": {
  "kernelspec": {
   "display_name": "Python 3 (ipykernel)",
   "language": "python",
   "name": "python3"
  },
  "language_info": {
   "codemirror_mode": {
    "name": "ipython",
    "version": 3
   },
   "file_extension": ".py",
   "mimetype": "text/x-python",
   "name": "python",
   "nbconvert_exporter": "python",
   "pygments_lexer": "ipython3",
   "version": "3.10.0"
  }
 },
 "nbformat": 4,
 "nbformat_minor": 2
}
