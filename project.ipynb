{
 "cells": [
  {
   "cell_type": "code",
   "execution_count": 15,
   "metadata": {},
   "outputs": [
    {
     "data": {
      "text/html": [
       "<div>\n",
       "<style scoped>\n",
       "    .dataframe tbody tr th:only-of-type {\n",
       "        vertical-align: middle;\n",
       "    }\n",
       "\n",
       "    .dataframe tbody tr th {\n",
       "        vertical-align: top;\n",
       "    }\n",
       "\n",
       "    .dataframe thead th {\n",
       "        text-align: right;\n",
       "    }\n",
       "</style>\n",
       "<table border=\"1\" class=\"dataframe\">\n",
       "  <thead>\n",
       "    <tr style=\"text-align: right;\">\n",
       "      <th></th>\n",
       "      <th>dtm</th>\n",
       "      <th>MIP</th>\n",
       "      <th>Solar_MW</th>\n",
       "      <th>Solar_capacity_mwp</th>\n",
       "      <th>Solar_installedcapacity_mwp</th>\n",
       "      <th>Wind_MW</th>\n",
       "      <th>SS_Price</th>\n",
       "      <th>boa_MWh</th>\n",
       "      <th>DA_Price</th>\n",
       "    </tr>\n",
       "  </thead>\n",
       "  <tbody>\n",
       "    <tr>\n",
       "      <th>0</th>\n",
       "      <td>2020-09-20T00:00:00Z</td>\n",
       "      <td>20.06</td>\n",
       "      <td>0.0</td>\n",
       "      <td>2108.489754</td>\n",
       "      <td>2206.064655</td>\n",
       "      <td>996.284</td>\n",
       "      <td>2.50</td>\n",
       "      <td>0.0</td>\n",
       "      <td>32.17</td>\n",
       "    </tr>\n",
       "    <tr>\n",
       "      <th>1</th>\n",
       "      <td>2020-09-20T00:30:00Z</td>\n",
       "      <td>19.77</td>\n",
       "      <td>0.0</td>\n",
       "      <td>2108.489754</td>\n",
       "      <td>2206.064655</td>\n",
       "      <td>957.576</td>\n",
       "      <td>15.00</td>\n",
       "      <td>0.0</td>\n",
       "      <td>32.17</td>\n",
       "    </tr>\n",
       "    <tr>\n",
       "      <th>2</th>\n",
       "      <td>2020-09-20T01:00:00Z</td>\n",
       "      <td>28.68</td>\n",
       "      <td>0.0</td>\n",
       "      <td>2108.489754</td>\n",
       "      <td>2206.064655</td>\n",
       "      <td>941.044</td>\n",
       "      <td>47.95</td>\n",
       "      <td>0.0</td>\n",
       "      <td>32.00</td>\n",
       "    </tr>\n",
       "    <tr>\n",
       "      <th>3</th>\n",
       "      <td>2020-09-20T01:30:00Z</td>\n",
       "      <td>28.97</td>\n",
       "      <td>0.0</td>\n",
       "      <td>2108.489754</td>\n",
       "      <td>2206.064655</td>\n",
       "      <td>964.366</td>\n",
       "      <td>29.13</td>\n",
       "      <td>0.0</td>\n",
       "      <td>32.00</td>\n",
       "    </tr>\n",
       "    <tr>\n",
       "      <th>4</th>\n",
       "      <td>2020-09-20T02:00:00Z</td>\n",
       "      <td>28.19</td>\n",
       "      <td>0.0</td>\n",
       "      <td>2108.489754</td>\n",
       "      <td>2206.064655</td>\n",
       "      <td>918.432</td>\n",
       "      <td>28.95</td>\n",
       "      <td>0.0</td>\n",
       "      <td>31.99</td>\n",
       "    </tr>\n",
       "    <tr>\n",
       "      <th>...</th>\n",
       "      <td>...</td>\n",
       "      <td>...</td>\n",
       "      <td>...</td>\n",
       "      <td>...</td>\n",
       "      <td>...</td>\n",
       "      <td>...</td>\n",
       "      <td>...</td>\n",
       "      <td>...</td>\n",
       "      <td>...</td>\n",
       "    </tr>\n",
       "    <tr>\n",
       "      <th>54379</th>\n",
       "      <td>2023-10-27T21:30:00Z</td>\n",
       "      <td>NaN</td>\n",
       "      <td>0.0</td>\n",
       "      <td>2331.383994</td>\n",
       "      <td>2487.180474</td>\n",
       "      <td>275.444</td>\n",
       "      <td>129.00</td>\n",
       "      <td>0.0</td>\n",
       "      <td>82.47</td>\n",
       "    </tr>\n",
       "    <tr>\n",
       "      <th>54380</th>\n",
       "      <td>2023-10-27T22:00:00Z</td>\n",
       "      <td>NaN</td>\n",
       "      <td>0.0</td>\n",
       "      <td>2331.383994</td>\n",
       "      <td>2487.180474</td>\n",
       "      <td>132.522</td>\n",
       "      <td>129.00</td>\n",
       "      <td>0.0</td>\n",
       "      <td>64.31</td>\n",
       "    </tr>\n",
       "    <tr>\n",
       "      <th>54381</th>\n",
       "      <td>2023-10-27T22:30:00Z</td>\n",
       "      <td>NaN</td>\n",
       "      <td>0.0</td>\n",
       "      <td>2331.383994</td>\n",
       "      <td>2487.180474</td>\n",
       "      <td>64.226</td>\n",
       "      <td>133.00</td>\n",
       "      <td>0.0</td>\n",
       "      <td>64.31</td>\n",
       "    </tr>\n",
       "    <tr>\n",
       "      <th>54382</th>\n",
       "      <td>2023-10-27T23:00:00Z</td>\n",
       "      <td>86.84</td>\n",
       "      <td>0.0</td>\n",
       "      <td>2331.383994</td>\n",
       "      <td>2487.180474</td>\n",
       "      <td>28.662</td>\n",
       "      <td>133.00</td>\n",
       "      <td>0.0</td>\n",
       "      <td>58.68</td>\n",
       "    </tr>\n",
       "    <tr>\n",
       "      <th>54383</th>\n",
       "      <td>2023-10-27T23:30:00Z</td>\n",
       "      <td>89.49</td>\n",
       "      <td>0.0</td>\n",
       "      <td>2331.329520</td>\n",
       "      <td>2487.180474</td>\n",
       "      <td>19.504</td>\n",
       "      <td>133.00</td>\n",
       "      <td>0.0</td>\n",
       "      <td>58.68</td>\n",
       "    </tr>\n",
       "  </tbody>\n",
       "</table>\n",
       "<p>54384 rows × 9 columns</p>\n",
       "</div>"
      ],
      "text/plain": [
       "                        dtm    MIP  Solar_MW  Solar_capacity_mwp  \\\n",
       "0      2020-09-20T00:00:00Z  20.06       0.0         2108.489754   \n",
       "1      2020-09-20T00:30:00Z  19.77       0.0         2108.489754   \n",
       "2      2020-09-20T01:00:00Z  28.68       0.0         2108.489754   \n",
       "3      2020-09-20T01:30:00Z  28.97       0.0         2108.489754   \n",
       "4      2020-09-20T02:00:00Z  28.19       0.0         2108.489754   \n",
       "...                     ...    ...       ...                 ...   \n",
       "54379  2023-10-27T21:30:00Z    NaN       0.0         2331.383994   \n",
       "54380  2023-10-27T22:00:00Z    NaN       0.0         2331.383994   \n",
       "54381  2023-10-27T22:30:00Z    NaN       0.0         2331.383994   \n",
       "54382  2023-10-27T23:00:00Z  86.84       0.0         2331.383994   \n",
       "54383  2023-10-27T23:30:00Z  89.49       0.0         2331.329520   \n",
       "\n",
       "       Solar_installedcapacity_mwp  Wind_MW  SS_Price  boa_MWh  DA_Price  \n",
       "0                      2206.064655  996.284      2.50      0.0     32.17  \n",
       "1                      2206.064655  957.576     15.00      0.0     32.17  \n",
       "2                      2206.064655  941.044     47.95      0.0     32.00  \n",
       "3                      2206.064655  964.366     29.13      0.0     32.00  \n",
       "4                      2206.064655  918.432     28.95      0.0     31.99  \n",
       "...                            ...      ...       ...      ...       ...  \n",
       "54379                  2487.180474  275.444    129.00      0.0     82.47  \n",
       "54380                  2487.180474  132.522    129.00      0.0     64.31  \n",
       "54381                  2487.180474   64.226    133.00      0.0     64.31  \n",
       "54382                  2487.180474   28.662    133.00      0.0     58.68  \n",
       "54383                  2487.180474   19.504    133.00      0.0     58.68  \n",
       "\n",
       "[54384 rows x 9 columns]"
      ]
     },
     "execution_count": 15,
     "metadata": {},
     "output_type": "execute_result"
    }
   ],
   "source": [
    "import pandas as pd\n",
    "import numpy as np\n",
    "dataRaw = pd.read_csv(\"Energy_Data_20200920_20231027.csv\")\n",
    "\n",
    "dataRaw"
   ]
  },
  {
   "cell_type": "code",
   "execution_count": null,
   "metadata": {},
   "outputs": [],
   "source": [
    "\"\"\"\n",
    "Part : Preprocessing\n",
    "\"\"\""
   ]
  },
  {
   "cell_type": "code",
   "execution_count": 17,
   "metadata": {},
   "outputs": [
    {
     "data": {
      "text/plain": [
       "dtm                             object\n",
       "MIP                            float64\n",
       "Solar_MW                       float64\n",
       "Solar_capacity_mwp             float64\n",
       "Solar_installedcapacity_mwp    float64\n",
       "Wind_MW                        float64\n",
       "SS_Price                       float64\n",
       "boa_MWh                        float64\n",
       "DA_Price                       float64\n",
       "dtype: object"
      ]
     },
     "execution_count": 17,
     "metadata": {},
     "output_type": "execute_result"
    }
   ],
   "source": [
    "dataRaw.dtypes"
   ]
  },
  {
   "cell_type": "code",
   "execution_count": 20,
   "metadata": {},
   "outputs": [],
   "source": [
    "dataRaw['dtm'] = pd.to_datetime(dataRaw['dtm'])\n",
    "\n",
    "dataRaw['year'] = dataRaw['dtm'].dt.year\n",
    "dataRaw['month'] = dataRaw['dtm'].dt.month\n",
    "dataRaw['day'] = dataRaw['dtm'].dt.day\n",
    "dataRaw['hour'] = dataRaw['dtm'].dt.hour\n",
    "dataRaw['minute'] = dataRaw['dtm'].dt.minute\n",
    "dataRaw['second'] = dataRaw['dtm'].dt.second\n",
    "\n",
    "dataRaw2 = dataRaw.drop('dtm',axis=1)"
   ]
  },
  {
   "cell_type": "code",
   "execution_count": 21,
   "metadata": {},
   "outputs": [
    {
     "data": {
      "text/plain": [
       "MIP                            float64\n",
       "Solar_MW                       float64\n",
       "Solar_capacity_mwp             float64\n",
       "Solar_installedcapacity_mwp    float64\n",
       "Wind_MW                        float64\n",
       "SS_Price                       float64\n",
       "boa_MWh                        float64\n",
       "DA_Price                       float64\n",
       "year                             int64\n",
       "month                            int64\n",
       "day                              int64\n",
       "hour                             int64\n",
       "minute                           int64\n",
       "second                           int64\n",
       "dtype: object"
      ]
     },
     "execution_count": 21,
     "metadata": {},
     "output_type": "execute_result"
    }
   ],
   "source": [
    "dataRaw2.dtypes"
   ]
  },
  {
   "cell_type": "code",
   "execution_count": 11,
   "metadata": {},
   "outputs": [
    {
     "data": {
      "text/plain": [
       "'\\nPART : Imputation of the missing data\\n'"
      ]
     },
     "execution_count": 11,
     "metadata": {},
     "output_type": "execute_result"
    }
   ],
   "source": [
    "\"\"\"\n",
    "PART : Imputation of the missing data\n",
    "\"\"\""
   ]
  },
  {
   "cell_type": "code",
   "execution_count": 22,
   "metadata": {},
   "outputs": [
    {
     "data": {
      "text/plain": [
       "MIP                            321\n",
       "Solar_MW                        75\n",
       "Solar_capacity_mwp               0\n",
       "Solar_installedcapacity_mwp      0\n",
       "Wind_MW                        103\n",
       "SS_Price                         0\n",
       "boa_MWh                        103\n",
       "DA_Price                         0\n",
       "year                             0\n",
       "month                            0\n",
       "day                              0\n",
       "hour                             0\n",
       "minute                           0\n",
       "second                           0\n",
       "dtype: int64"
      ]
     },
     "execution_count": 22,
     "metadata": {},
     "output_type": "execute_result"
    }
   ],
   "source": [
    "dataRaw2.isna().sum()"
   ]
  },
  {
   "cell_type": "code",
   "execution_count": 23,
   "metadata": {},
   "outputs": [
    {
     "data": {
      "text/plain": [
       "0.07906737275669315"
      ]
     },
     "execution_count": 23,
     "metadata": {},
     "output_type": "execute_result"
    }
   ],
   "source": [
    "NombreNA = dataRaw2.isna().sum().sum()\n",
    "row,col = dataRaw2.shape[0],dataRaw2.shape[1]\n",
    "PourcentageNA = NombreNA*100/(row*col)\n",
    "PourcentageNA\n"
   ]
  },
  {
   "cell_type": "code",
   "execution_count": null,
   "metadata": {},
   "outputs": [],
   "source": [
    "\"\"\"\n",
    "The amount of missing data seems quite low (0.08% < 5% of the total of the data from dataset).\n",
    "It may not be interesting to impute them.\n",
    "However, we wanted to experiment an Imputer especially the KNN Imputer which will allow to associate the missing data to a group with similiar values.\n",
    "And not by imputating by the mean value which will create a distorsion on the values of the dataset\n",
    "\"\"\""
   ]
  },
  {
   "cell_type": "code",
   "execution_count": 26,
   "metadata": {},
   "outputs": [
    {
     "data": {
      "text/html": [
       "<div>\n",
       "<style scoped>\n",
       "    .dataframe tbody tr th:only-of-type {\n",
       "        vertical-align: middle;\n",
       "    }\n",
       "\n",
       "    .dataframe tbody tr th {\n",
       "        vertical-align: top;\n",
       "    }\n",
       "\n",
       "    .dataframe thead th {\n",
       "        text-align: right;\n",
       "    }\n",
       "</style>\n",
       "<table border=\"1\" class=\"dataframe\">\n",
       "  <thead>\n",
       "    <tr style=\"text-align: right;\">\n",
       "      <th></th>\n",
       "      <th>MIP</th>\n",
       "      <th>Solar_MW</th>\n",
       "      <th>Solar_capacity_mwp</th>\n",
       "      <th>Solar_installedcapacity_mwp</th>\n",
       "      <th>Wind_MW</th>\n",
       "      <th>SS_Price</th>\n",
       "      <th>boa_MWh</th>\n",
       "      <th>DA_Price</th>\n",
       "      <th>year</th>\n",
       "      <th>month</th>\n",
       "      <th>day</th>\n",
       "      <th>hour</th>\n",
       "      <th>minute</th>\n",
       "      <th>second</th>\n",
       "    </tr>\n",
       "  </thead>\n",
       "  <tbody>\n",
       "    <tr>\n",
       "      <th>0</th>\n",
       "      <td>20.06</td>\n",
       "      <td>0.0</td>\n",
       "      <td>2108.489754</td>\n",
       "      <td>2206.064655</td>\n",
       "      <td>996.284</td>\n",
       "      <td>2.50</td>\n",
       "      <td>0.0</td>\n",
       "      <td>32.17</td>\n",
       "      <td>2020.0</td>\n",
       "      <td>9.0</td>\n",
       "      <td>20.0</td>\n",
       "      <td>0.0</td>\n",
       "      <td>0.0</td>\n",
       "      <td>0.0</td>\n",
       "    </tr>\n",
       "    <tr>\n",
       "      <th>1</th>\n",
       "      <td>19.77</td>\n",
       "      <td>0.0</td>\n",
       "      <td>2108.489754</td>\n",
       "      <td>2206.064655</td>\n",
       "      <td>957.576</td>\n",
       "      <td>15.00</td>\n",
       "      <td>0.0</td>\n",
       "      <td>32.17</td>\n",
       "      <td>2020.0</td>\n",
       "      <td>9.0</td>\n",
       "      <td>20.0</td>\n",
       "      <td>0.0</td>\n",
       "      <td>30.0</td>\n",
       "      <td>0.0</td>\n",
       "    </tr>\n",
       "    <tr>\n",
       "      <th>2</th>\n",
       "      <td>28.68</td>\n",
       "      <td>0.0</td>\n",
       "      <td>2108.489754</td>\n",
       "      <td>2206.064655</td>\n",
       "      <td>941.044</td>\n",
       "      <td>47.95</td>\n",
       "      <td>0.0</td>\n",
       "      <td>32.00</td>\n",
       "      <td>2020.0</td>\n",
       "      <td>9.0</td>\n",
       "      <td>20.0</td>\n",
       "      <td>1.0</td>\n",
       "      <td>0.0</td>\n",
       "      <td>0.0</td>\n",
       "    </tr>\n",
       "    <tr>\n",
       "      <th>3</th>\n",
       "      <td>28.97</td>\n",
       "      <td>0.0</td>\n",
       "      <td>2108.489754</td>\n",
       "      <td>2206.064655</td>\n",
       "      <td>964.366</td>\n",
       "      <td>29.13</td>\n",
       "      <td>0.0</td>\n",
       "      <td>32.00</td>\n",
       "      <td>2020.0</td>\n",
       "      <td>9.0</td>\n",
       "      <td>20.0</td>\n",
       "      <td>1.0</td>\n",
       "      <td>30.0</td>\n",
       "      <td>0.0</td>\n",
       "    </tr>\n",
       "    <tr>\n",
       "      <th>4</th>\n",
       "      <td>28.19</td>\n",
       "      <td>0.0</td>\n",
       "      <td>2108.489754</td>\n",
       "      <td>2206.064655</td>\n",
       "      <td>918.432</td>\n",
       "      <td>28.95</td>\n",
       "      <td>0.0</td>\n",
       "      <td>31.99</td>\n",
       "      <td>2020.0</td>\n",
       "      <td>9.0</td>\n",
       "      <td>20.0</td>\n",
       "      <td>2.0</td>\n",
       "      <td>0.0</td>\n",
       "      <td>0.0</td>\n",
       "    </tr>\n",
       "    <tr>\n",
       "      <th>...</th>\n",
       "      <td>...</td>\n",
       "      <td>...</td>\n",
       "      <td>...</td>\n",
       "      <td>...</td>\n",
       "      <td>...</td>\n",
       "      <td>...</td>\n",
       "      <td>...</td>\n",
       "      <td>...</td>\n",
       "      <td>...</td>\n",
       "      <td>...</td>\n",
       "      <td>...</td>\n",
       "      <td>...</td>\n",
       "      <td>...</td>\n",
       "      <td>...</td>\n",
       "    </tr>\n",
       "    <tr>\n",
       "      <th>54379</th>\n",
       "      <td>88.71</td>\n",
       "      <td>0.0</td>\n",
       "      <td>2331.383994</td>\n",
       "      <td>2487.180474</td>\n",
       "      <td>275.444</td>\n",
       "      <td>129.00</td>\n",
       "      <td>0.0</td>\n",
       "      <td>82.47</td>\n",
       "      <td>2023.0</td>\n",
       "      <td>10.0</td>\n",
       "      <td>27.0</td>\n",
       "      <td>21.0</td>\n",
       "      <td>30.0</td>\n",
       "      <td>0.0</td>\n",
       "    </tr>\n",
       "    <tr>\n",
       "      <th>54380</th>\n",
       "      <td>104.40</td>\n",
       "      <td>0.0</td>\n",
       "      <td>2331.383994</td>\n",
       "      <td>2487.180474</td>\n",
       "      <td>132.522</td>\n",
       "      <td>129.00</td>\n",
       "      <td>0.0</td>\n",
       "      <td>64.31</td>\n",
       "      <td>2023.0</td>\n",
       "      <td>10.0</td>\n",
       "      <td>27.0</td>\n",
       "      <td>22.0</td>\n",
       "      <td>0.0</td>\n",
       "      <td>0.0</td>\n",
       "    </tr>\n",
       "    <tr>\n",
       "      <th>54381</th>\n",
       "      <td>87.20</td>\n",
       "      <td>0.0</td>\n",
       "      <td>2331.383994</td>\n",
       "      <td>2487.180474</td>\n",
       "      <td>64.226</td>\n",
       "      <td>133.00</td>\n",
       "      <td>0.0</td>\n",
       "      <td>64.31</td>\n",
       "      <td>2023.0</td>\n",
       "      <td>10.0</td>\n",
       "      <td>27.0</td>\n",
       "      <td>22.0</td>\n",
       "      <td>30.0</td>\n",
       "      <td>0.0</td>\n",
       "    </tr>\n",
       "    <tr>\n",
       "      <th>54382</th>\n",
       "      <td>86.84</td>\n",
       "      <td>0.0</td>\n",
       "      <td>2331.383994</td>\n",
       "      <td>2487.180474</td>\n",
       "      <td>28.662</td>\n",
       "      <td>133.00</td>\n",
       "      <td>0.0</td>\n",
       "      <td>58.68</td>\n",
       "      <td>2023.0</td>\n",
       "      <td>10.0</td>\n",
       "      <td>27.0</td>\n",
       "      <td>23.0</td>\n",
       "      <td>0.0</td>\n",
       "      <td>0.0</td>\n",
       "    </tr>\n",
       "    <tr>\n",
       "      <th>54383</th>\n",
       "      <td>89.49</td>\n",
       "      <td>0.0</td>\n",
       "      <td>2331.329520</td>\n",
       "      <td>2487.180474</td>\n",
       "      <td>19.504</td>\n",
       "      <td>133.00</td>\n",
       "      <td>0.0</td>\n",
       "      <td>58.68</td>\n",
       "      <td>2023.0</td>\n",
       "      <td>10.0</td>\n",
       "      <td>27.0</td>\n",
       "      <td>23.0</td>\n",
       "      <td>30.0</td>\n",
       "      <td>0.0</td>\n",
       "    </tr>\n",
       "  </tbody>\n",
       "</table>\n",
       "<p>54384 rows × 14 columns</p>\n",
       "</div>"
      ],
      "text/plain": [
       "          MIP  Solar_MW  Solar_capacity_mwp  Solar_installedcapacity_mwp  \\\n",
       "0       20.06       0.0         2108.489754                  2206.064655   \n",
       "1       19.77       0.0         2108.489754                  2206.064655   \n",
       "2       28.68       0.0         2108.489754                  2206.064655   \n",
       "3       28.97       0.0         2108.489754                  2206.064655   \n",
       "4       28.19       0.0         2108.489754                  2206.064655   \n",
       "...       ...       ...                 ...                          ...   \n",
       "54379   88.71       0.0         2331.383994                  2487.180474   \n",
       "54380  104.40       0.0         2331.383994                  2487.180474   \n",
       "54381   87.20       0.0         2331.383994                  2487.180474   \n",
       "54382   86.84       0.0         2331.383994                  2487.180474   \n",
       "54383   89.49       0.0         2331.329520                  2487.180474   \n",
       "\n",
       "       Wind_MW  SS_Price  boa_MWh  DA_Price    year  month   day  hour  \\\n",
       "0      996.284      2.50      0.0     32.17  2020.0    9.0  20.0   0.0   \n",
       "1      957.576     15.00      0.0     32.17  2020.0    9.0  20.0   0.0   \n",
       "2      941.044     47.95      0.0     32.00  2020.0    9.0  20.0   1.0   \n",
       "3      964.366     29.13      0.0     32.00  2020.0    9.0  20.0   1.0   \n",
       "4      918.432     28.95      0.0     31.99  2020.0    9.0  20.0   2.0   \n",
       "...        ...       ...      ...       ...     ...    ...   ...   ...   \n",
       "54379  275.444    129.00      0.0     82.47  2023.0   10.0  27.0  21.0   \n",
       "54380  132.522    129.00      0.0     64.31  2023.0   10.0  27.0  22.0   \n",
       "54381   64.226    133.00      0.0     64.31  2023.0   10.0  27.0  22.0   \n",
       "54382   28.662    133.00      0.0     58.68  2023.0   10.0  27.0  23.0   \n",
       "54383   19.504    133.00      0.0     58.68  2023.0   10.0  27.0  23.0   \n",
       "\n",
       "       minute  second  \n",
       "0         0.0     0.0  \n",
       "1        30.0     0.0  \n",
       "2         0.0     0.0  \n",
       "3        30.0     0.0  \n",
       "4         0.0     0.0  \n",
       "...       ...     ...  \n",
       "54379    30.0     0.0  \n",
       "54380     0.0     0.0  \n",
       "54381    30.0     0.0  \n",
       "54382     0.0     0.0  \n",
       "54383    30.0     0.0  \n",
       "\n",
       "[54384 rows x 14 columns]"
      ]
     },
     "execution_count": 26,
     "metadata": {},
     "output_type": "execute_result"
    }
   ],
   "source": [
    "from sklearn.impute import KNNImputer\n",
    "dataImputed = KNNImputer(missing_values=np.nan,n_neighbors=3).fit_transform(dataRaw2)\n",
    "dataImputed = pd.DataFrame(dataImputed, columns=dataRaw2.columns)\n",
    "dataImputed"
   ]
  },
  {
   "cell_type": "code",
   "execution_count": 27,
   "metadata": {},
   "outputs": [
    {
     "data": {
      "text/plain": [
       "MIP                            0\n",
       "Solar_MW                       0\n",
       "Solar_capacity_mwp             0\n",
       "Solar_installedcapacity_mwp    0\n",
       "Wind_MW                        0\n",
       "SS_Price                       0\n",
       "boa_MWh                        0\n",
       "DA_Price                       0\n",
       "year                           0\n",
       "month                          0\n",
       "day                            0\n",
       "hour                           0\n",
       "minute                         0\n",
       "second                         0\n",
       "dtype: int64"
      ]
     },
     "execution_count": 27,
     "metadata": {},
     "output_type": "execute_result"
    }
   ],
   "source": [
    "dataImputed.isna().sum()"
   ]
  },
  {
   "cell_type": "code",
   "execution_count": null,
   "metadata": {},
   "outputs": [],
   "source": [
    "\"\"\"\n",
    "Part : Observation\n",
    "\"\"\""
   ]
  },
  {
   "cell_type": "code",
   "execution_count": 32,
   "metadata": {},
   "outputs": [],
   "source": [
    "import matplotlib.pyplot as plt\n",
    "\n",
    "def plot_data2D(df, x_col, y_col, title=\"Graphique\", x_label=\"X-axis\", y_label=\"Y-axis\", grid=True, line_style='-', marker_style='o', color='b'):\n",
    "    \n",
    "    plt.figure(figsize=(10, 5))  \n",
    "    plt.plot(df[x_col], df[y_col], linestyle=line_style, marker=marker_style, color=color)  \n",
    "    plt.title(title)  \n",
    "    plt.xlabel(x_label)  \n",
    "    plt.ylabel(y_label)  \n",
    "    if grid:\n",
    "        plt.grid(True)  \n",
    "    plt.show()"
   ]
  },
  {
   "cell_type": "code",
   "execution_count": 35,
   "metadata": {},
   "outputs": [
    {
     "data": {
      "image/png": "[encoded data removed]",
      "text/plain": [
       "<Figure size 1000x500 with 1 Axes>"
      ]
     },
     "metadata": {},
     "output_type": "display_data"
    }
   ],
   "source": [
    "dataImputed2 = pd.concat([dataImputed,dataRaw['dtm']],axis=1)\n",
    "plot_data2D(dataImputed2,'dtm','Solar_MW')\n"
   ]
  },
  {
   "cell_type": "code",
   "execution_count": null,
   "metadata": {},
   "outputs": [],
   "source": [
    "\"\"\"\n",
    "Part : NC files\n",
    "\"\"\""
   ]
  },
  {
   "cell_type": "code",
   "execution_count": null,
   "metadata": {},
   "outputs": [],
   "source": [
    "\"\"\"\n",
    "Part : Preprocessing 2 (Selection, creation of interesting features)\n",
    "\"\"\""
   ]
  },
  {
   "cell_type": "code",
   "execution_count": null,
   "metadata": {},
   "outputs": [],
   "source": [
    "\"\"\"\n",
    "Part : Prediction with Linear Regression\n",
    "\"\"\""
   ]
  },
  {
   "cell_type": "code",
   "execution_count": 39,
   "metadata": {},
   "outputs": [
    {
     "name": "stdout",
     "output_type": "stream",
     "text": [
      "Score :  3.603329765276597\n"
     ]
    }
   ],
   "source": [
    "from sklearn.linear_model import LinearRegression\n",
    "from sklearn.model_selection import train_test_split\n",
    "from sklearn.metrics import mean_squared_error\n",
    "model = LinearRegression()\n",
    "X,y = dataImputed.drop('Solar_MW',axis=1),dataImputed['Solar_MW']\n",
    "X_train, X_test, y_train, y_test = train_test_split(X, y, test_size=0.2, random_state=0)\n",
    "model.fit(X_train,y_train)\n",
    "y_pred = model.predict(X_test)\n",
    "score = model.score(X_test, y_test)*100\n",
    "print(\"Score : \",score)"
   ]
  },
  {
   "cell_type": "code",
   "execution_count": null,
   "metadata": {},
   "outputs": [],
   "source": [
    "\"\"\"\n",
    "Part : Prediction with Random Forest\n",
    "\"\"\""
   ]
  },
  {
   "cell_type": "code",
   "execution_count": null,
   "metadata": {},
   "outputs": [],
   "source": [
    "\"\"\"\n",
    "Part : Prediction with Neural Networks\n",
    "\"\"\""
   ]
  },
  {
   "cell_type": "code",
   "execution_count": null,
   "metadata": {},
   "outputs": [],
   "source": [
    "\"\"\"\n",
    "Part : Prediction with ...\n",
    "\"\"\""
   ]
  },
  {
   "cell_type": "code",
   "execution_count": null,
   "metadata": {},
   "outputs": [],
   "source": [
    "\"\"\"\n",
    "Part : Best Model \n",
    "\"\"\""
   ]
  },
  {
   "cell_type": "code",
   "execution_count": 41,
   "metadata": {},
   "outputs": [
    {
     "data": {
      "text/plain": [
       "'\\nPart : DashBoard\\n'"
      ]
     },
     "execution_count": 41,
     "metadata": {},
     "output_type": "execute_result"
    }
   ],
   "source": [
    "\"\"\"\n",
    "Part : DashBoard\n",
    "\"\"\""
   ]
  },
  {
   "cell_type": "code",
   "execution_count": 42,
   "metadata": {},
   "outputs": [
    {
     "data": {
      "text/html": [
       "\n",
       "        <iframe\n",
       "            width=\"100%\"\n",
       "            height=\"650\"\n",
       "            src=\"http://127.0.0.1:8051/\"\n",
       "            frameborder=\"0\"\n",
       "            allowfullscreen\n",
       "            \n",
       "        ></iframe>\n",
       "        "
      ],
      "text/plain": [
       "<IPython.lib.display.IFrame at 0x7fda8010a940>"
      ]
     },
     "metadata": {},
     "output_type": "display_data"
    }
   ],
   "source": [
    "from dash import Dash, html, dcc, Input, Output, callback\n",
    "import pandas as pd\n",
    "import plotly.graph_objects as go\n",
    "from sklearn.model_selection import train_test_split\n",
    "from sklearn.linear_model import LinearRegression\n",
    "import numpy as np\n",
    "\n",
    "# Initialisation de l'application Dash\n",
    "app = Dash(__name__)\n",
    "\n",
    "# Layout de l'application\n",
    "app.layout = html.Div([\n",
    "    html.Div(children='Régression Linéaire avec Dash'),\n",
    "    html.Button('Lancer la prédiction', id='predict-button'),\n",
    "    dcc.Graph(id='prediction-graph'),\n",
    "])\n",
    "\n",
    "# Assumons que data_final et data_final2 sont vos DataFrames prédéfinis\n",
    "\n",
    "dataImputed2 = pd.DataFrame({\n",
    "    'dtm': pd.date_range(start='2021-05-01', periods=50, freq='D'),\n",
    "    'Solar_MW': np.random.rand(50) * 100\n",
    "})\n",
    "\n",
    "# Callback pour mettre à jour le graphique avec les prédictions\n",
    "@app.callback(\n",
    "    Output('prediction-graph', 'figure'),\n",
    "    Input('predict-button', 'n_clicks')\n",
    ")\n",
    "def update_graph(n_clicks):\n",
    "    if n_clicks is None:\n",
    "        # Ne rien afficher avant que le bouton soit cliqué\n",
    "        return go.Figure()\n",
    "\n",
    "    X_train, X_test, y_train, y_test = train_test_split(X, y, test_size=0.2, random_state=0)\n",
    "\n",
    "    model = LinearRegression()\n",
    "    model.fit(X_train, y_train)\n",
    "    y_pred = model.predict(X_test)\n",
    "    \n",
    "    # Création du graphique de prédiction\n",
    "    fig = go.Figure()\n",
    "    fig.add_trace(go.Scatter(x=dataImputed2['dtm'], y=y_pred, mode='markers', name='Données réelles'))\n",
    "    fig.add_trace(go.Scatter(x=dataImputed2['dtm'], y=y_test, mode='markers', name='Données réelles'))\n",
    "    fig.update_layout(title='Comparaison des Prédictions et des Données Réelles', xaxis_title='Date', yaxis_title='Solar MW')\n",
    "\n",
    "    return fig\n",
    "\n",
    "# Exécuter l'application\n",
    "if __name__ == '__main__':\n",
    "    app.run_server(debug=True, port=8051)  # Utilisez un numéro de port différent si nécessaire\n"
   ]
  },
  {
   "cell_type": "code",
   "execution_count": null,
   "metadata": {},
   "outputs": [],
   "source": []
  }
 ],
 "metadata": {
  "kernelspec": {
   "display_name": "base",
   "language": "python",
   "name": "python3"
  },
  "language_info": {
   "codemirror_mode": {
    "name": "ipython",
    "version": 3
   },
   "file_extension": ".py",
   "mimetype": "text/x-python",
   "name": "python",
   "nbconvert_exporter": "python",
   "pygments_lexer": "ipython3",
   "version": "3.9.13"
  }
 },
 "nbformat": 4,
 "nbformat_minor": 2
}
